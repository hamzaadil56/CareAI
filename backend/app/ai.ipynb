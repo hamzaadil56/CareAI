{
 "cells": [
  {
   "cell_type": "code",
   "execution_count": 3,
   "metadata": {},
   "outputs": [
    {
     "data": {
      "text/plain": [
       "AIMessage(content='I\\'m an artificial intelligence model known as Llama. Llama stands for \"Large Language Model Meta AI.\"', response_metadata={'token_usage': {'completion_tokens': 23, 'prompt_tokens': 40, 'total_tokens': 63, 'completion_time': 0.092, 'prompt_time': 0.007874144, 'queue_time': 0.007575163000000001, 'total_time': 0.099874144}, 'model_name': 'llama-3.1-70b-versatile', 'system_fingerprint': 'fp_b6828be2c9', 'finish_reason': 'stop', 'logprobs': None}, id='run-136752f6-1c2c-4ebe-a0ef-02d5ace8d0c9-0', usage_metadata={'input_tokens': 40, 'output_tokens': 23, 'total_tokens': 63})"
      ]
     },
     "execution_count": 3,
     "metadata": {},
     "output_type": "execute_result"
    }
   ],
   "source": [
    "import os\n",
    "import pandas as pd\n",
    "from langchain_community.document_loaders import UnstructuredExcelLoader\n",
    "from langchain_community.document_loaders.csv_loader import CSVLoader\n",
    "from langchain_groq import ChatGroq\n",
    "from langchain_core.prompts import PromptTemplate\n",
    "from langchain_core.output_parsers import StrOutputParser\n",
    "from langchain_core.runnables import RunnablePassthrough\n",
    "from langchain_community.vectorstores import FAISS\n",
    "from dotenv import load_dotenv\n",
    "\n",
    "GROQ_API_KEY = \"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\"\n",
    "\n",
    "\n",
    "llm = ChatGroq(model=\"llama-3.1-70b-versatile\",api_key=GROQ_API_KEY)\n",
    "llm.invoke(\"What is your name?\")\n",
    "\n",
    "\n",
    "\n"
   ]
  }
 ],
 "metadata": {
  "kernelspec": {
   "display_name": "Python 3",
   "language": "python",
   "name": "python3"
  },
  "language_info": {
   "codemirror_mode": {
    "name": "ipython",
    "version": 3
   },
   "file_extension": ".py",
   "mimetype": "text/x-python",
   "name": "python",
   "nbconvert_exporter": "python",
   "pygments_lexer": "ipython3",
   "version": "3.12.8"
  }
 },
 "nbformat": 4,
 "nbformat_minor": 2
}
